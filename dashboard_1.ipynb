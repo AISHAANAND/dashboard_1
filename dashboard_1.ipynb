{
 "cells": [
  {
   "cell_type": "code",
   "execution_count": 1,
   "id": "e50d68e2",
   "metadata": {},
   "outputs": [
    {
     "name": "stdout",
     "output_type": "stream",
     "text": [
      "enter first name:Aisha\n",
      "enter last name:Anand\n",
      "Anand Aisha\n"
     ]
    }
   ],
   "source": [
    "#write a program that accepts the users first and last name and prints them in reverse order with a spsce between them.\n",
    "f=input(\"enter first name:\")\n",
    "l=input(\"enter last name:\")\n",
    "print(l+\" \"+f)"
   ]
  },
  {
   "cell_type": "code",
   "execution_count": 2,
   "id": "dc051ad9",
   "metadata": {},
   "outputs": [
    {
     "name": "stdout",
     "output_type": "stream",
     "text": [
      "enter an integer:3\n",
      "result: 39\n"
     ]
    }
   ],
   "source": [
    "#write a pthon program that accepts an integer(n) and computes the value of n+nn+nnn.\n",
    "n=int(input(\"enter an integer:\"))\n",
    "print(\"result:\",n+n**2+n**3)"
   ]
  },
  {
   "cell_type": "code",
   "execution_count": 3,
   "id": "beca6fd3",
   "metadata": {},
   "outputs": [
    {
     "name": "stdout",
     "output_type": "stream",
     "text": [
      "Name**Is**John\n"
     ]
    }
   ],
   "source": [
    "#display three strings \"Name\",\"Is\",\"John\" as \"Name**Is**John\"\n",
    "input_str=[\"Name\",\"Is\",\"John\"]\n",
    "output_str=\"**\".join(input_str)\n",
    "print(output_str)"
   ]
  },
  {
   "cell_type": "code",
   "execution_count": 4,
   "id": "20077cf3",
   "metadata": {},
   "outputs": [
    {
     "name": "stdout",
     "output_type": "stream",
     "text": [
      "the value of num is:65.92\n"
     ]
    }
   ],
   "source": [
    "#display float number with two decimal places using print()\n",
    "num=65.924536\n",
    "print(\"the value of num is:{:.2f}\".format(num))"
   ]
  },
  {
   "cell_type": "code",
   "execution_count": 5,
   "id": "b1367769",
   "metadata": {},
   "outputs": [
    {
     "name": "stdout",
     "output_type": "stream",
     "text": [
      "enter three strings with comma:apple,boy,cat\n",
      "1st= apple\n",
      "2nd= boy\n",
      "3rd= cat\n"
     ]
    }
   ],
   "source": [
    "#accept any three strings from one input() call\n",
    "str=input(\"enter three strings with comma:\")\n",
    "a,b,c=str.split(\",\")\n",
    "print(\"1st=\",a)\n",
    "print(\"2nd=\",b)\n",
    "print(\"3rd=\",c)"
   ]
  }
 ],
 "metadata": {
  "kernelspec": {
   "display_name": "Python 3 (ipykernel)",
   "language": "python",
   "name": "python3"
  },
  "language_info": {
   "codemirror_mode": {
    "name": "ipython",
    "version": 3
   },
   "file_extension": ".py",
   "mimetype": "text/x-python",
   "name": "python",
   "nbconvert_exporter": "python",
   "pygments_lexer": "ipython3",
   "version": "3.9.13"
  }
 },
 "nbformat": 4,
 "nbformat_minor": 5
}
