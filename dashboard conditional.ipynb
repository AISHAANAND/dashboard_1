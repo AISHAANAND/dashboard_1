{
 "cells": [
  {
   "cell_type": "code",
   "execution_count": 1,
   "id": "4574b5da",
   "metadata": {},
   "outputs": [
    {
     "name": "stdout",
     "output_type": "stream",
     "text": [
      "enter a number:20\n",
      "6\n"
     ]
    }
   ],
   "source": [
    "#write a python program to calculate the difference between a given number and 17,\n",
    "#if the given number is greater than 17 return twice the absolute difference.\n",
    "n=int(input(\"enter a number:\"))\n",
    "diff = abs(n-17)\n",
    "if n>17:\n",
    "    print(2 * diff)\n",
    "else:\n",
    "    print(diff)"
   ]
  },
  {
   "cell_type": "code",
   "execution_count": 2,
   "id": "f2cb4a95",
   "metadata": {},
   "outputs": [
    {
     "name": "stdout",
     "output_type": "stream",
     "text": [
      "enter a year:2023\n",
      "2023 is not a leap year\n"
     ]
    }
   ],
   "source": [
    "#write a program to check if a year is leap year or not.\n",
    "year=int(input(\"enter a year:\"))\n",
    "if year % 4 == 0 and (year % 100 != 0 or year % 400 == 0):\n",
    "    print(year,\"is a leap year\")\n",
    "else:\n",
    "    print(year,\"is not a leap year\")"
   ]
  },
  {
   "cell_type": "code",
   "execution_count": 3,
   "id": "2444c089",
   "metadata": {},
   "outputs": [
    {
     "name": "stdout",
     "output_type": "stream",
     "text": [
      "enter 1st integer:33\n",
      "enter 2nd integer:45\n",
      "enter 3rd integer:33\n",
      "result: 0\n"
     ]
    }
   ],
   "source": [
    "#write a python program to sum three given integers.However if two values are equal,the sum will be zero.\n",
    "a=int(input(\"enter 1st integer:\"))\n",
    "b=int(input(\"enter 2nd integer:\"))\n",
    "c=int(input(\"enter 3rd integer:\"))\n",
    "if a == b or a == c or b == c:\n",
    "    print(\"result:\",0)\n",
    "else:\n",
    "    print(\"result:\",a + b + c)"
   ]
  },
  {
   "cell_type": "code",
   "execution_count": 4,
   "id": "d6dd8214",
   "metadata": {},
   "outputs": [
    {
     "name": "stdout",
     "output_type": "stream",
     "text": [
      "Enter a month name: 23\n",
      "Invalid month name.\n"
     ]
    }
   ],
   "source": [
    "#write a python program to convert a month name to a number of days.\n",
    "month_name = input(\"Enter a month name: \")\n",
    "days_in_month = {\n",
    "    \"January\": 31,\n",
    "    \"February\": 28, # Or 29 in leap years\n",
    "    \"March\": 31,\n",
    "    \"April\": 30,\n",
    "    \"May\": 31,\n",
    "    \"June\": 30,\n",
    "    \"July\": 31,\n",
    "    \"August\": 31,\n",
    "    \"September\": 30,\n",
    "    \"October\": 31,\n",
    "    \"November\": 30,\n",
    "    \"December\": 31\n",
    "}\n",
    "if month_name in days_in_month:\n",
    "    print(f\"There are {days_in_month[month_name]} days in {month_name}.\")\n",
    "else:\n",
    "    print(\"Invalid month name.\")"
   ]
  },
  {
   "cell_type": "code",
   "execution_count": 5,
   "id": "cd1db708",
   "metadata": {},
   "outputs": [
    {
     "name": "stdout",
     "output_type": "stream",
     "text": [
      "Enter the length of side 1: 76\n",
      "Enter the length of side 2: 90\n",
      "Enter the length of side 3: 89\n",
      "The triangle is scalene.\n"
     ]
    }
   ],
   "source": [
    "#write a python program to check if a triangle is equilateral,isosceles or scalene.\n",
    "side1 = float(input(\"Enter the length of side 1: \"))\n",
    "side2 = float(input(\"Enter the length of side 2: \"))\n",
    "side3 = float(input(\"Enter the length of side 3: \"))\n",
    "if side1 == side2 and side2 == side3:\n",
    "    print(\"\\nThe triangle is equilateral.\")\n",
    "elif side1 == side2 or side1 == side3 or side2 == side3:\n",
    "    print(\"The triangle is isosceles.\")\n",
    "else:\n",
    "    print(\"The triangle is scalene.\")"
   ]
  }
 ],
 "metadata": {
  "kernelspec": {
   "display_name": "Python 3 (ipykernel)",
   "language": "python",
   "name": "python3"
  },
  "language_info": {
   "codemirror_mode": {
    "name": "ipython",
    "version": 3
   },
   "file_extension": ".py",
   "mimetype": "text/x-python",
   "name": "python",
   "nbconvert_exporter": "python",
   "pygments_lexer": "ipython3",
   "version": "3.9.13"
  }
 },
 "nbformat": 4,
 "nbformat_minor": 5
}
