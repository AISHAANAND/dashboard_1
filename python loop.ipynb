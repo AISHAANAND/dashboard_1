{
 "cells": [
  {
   "cell_type": "code",
   "execution_count": 1,
   "id": "c67d58b3",
   "metadata": {},
   "outputs": [
    {
     "name": "stdout",
     "output_type": "stream",
     "text": [
      "Enter first number: 16\n",
      "Enter second number: 4\n",
      "The GCD/HCF of 16 and 4 is: 4\n"
     ]
    }
   ],
   "source": [
    "#Write a program to find greatest common divisor (GCD) or highest common factor (HCF) of given two numbers.\n",
    "\n",
    "def gcd(num1, num2):\n",
    "    gcd = 1\n",
    "    divisor = 2\n",
    "    while num1 >= divisor and num2 >= divisor:\n",
    "        if num1 % divisor == 0 and num2 % divisor == 0:\n",
    "            gcd *= divisor\n",
    "            num1 //= divisor\n",
    "            num2 //= divisor\n",
    "        else:\n",
    "            divisor += 1\n",
    "    return gcd\n",
    "num1 = int(input(\"Enter first number: \"))\n",
    "num2 = int(input(\"Enter second number: \"))\n",
    "result = gcd(num1, num2)\n",
    "print(\"The GCD/HCF of\", num1, \"and\", num2, \"is:\", result)\n"
   ]
  },
  {
   "cell_type": "code",
   "execution_count": 2,
   "id": "875e4379",
   "metadata": {},
   "outputs": [
    {
     "name": "stdout",
     "output_type": "stream",
     "text": [
      "Enter a three-digit number: 153\n",
      "153 is an Armstrong number\n"
     ]
    }
   ],
   "source": [
    "#A three digit number is called Armstrong number if sum of cube of its digit is equal to number itself.\n",
    "\n",
    "num = int(input(\"Enter a three-digit number: \"))\n",
    "digit1 = num // 100\n",
    "digit2 = (num // 10) % 10\n",
    "digit3 = num % 10\n",
    "sum_cubes = digit1**3 + digit2**3 + digit3**3\n",
    "if sum_cubes == num:\n",
    "    print(num, \"is an Armstrong number\")\n",
    "else:\n",
    "    print(num, \"is not an Armstrong number\")\n"
   ]
  },
  {
   "cell_type": "code",
   "execution_count": 3,
   "id": "99079922",
   "metadata": {},
   "outputs": [
    {
     "name": "stdout",
     "output_type": "stream",
     "text": [
      "153 370 371 407 "
     ]
    }
   ],
   "source": [
    "#Write all Armstrong numbers between 100 to 500.\n",
    "\n",
    "for num in range(100, 501):\n",
    "    digit1 = num // 100\n",
    "    digit2 = (num // 10) % 10\n",
    "    digit3 = num % 10\n",
    "    sum_cubes = digit1**3 + digit2**3 + digit3**3\n",
    "    if sum_cubes == num:\n",
    "        print(num, end=\" \")\n"
   ]
  },
  {
   "cell_type": "code",
   "execution_count": 4,
   "id": "9465ff4f",
   "metadata": {},
   "outputs": [
    {
     "name": "stdout",
     "output_type": "stream",
     "text": [
      "1\n",
      "2\n",
      "Fizz\n",
      "4\n",
      "Buzz\n",
      "Fizz\n",
      "7\n",
      "8\n",
      "Fizz\n",
      "Buzz\n",
      "11\n",
      "Fizz\n",
      "13\n",
      "14\n",
      "FizzBuzz\n",
      "16\n",
      "17\n",
      "Fizz\n",
      "19\n",
      "Buzz\n",
      "Fizz\n",
      "22\n",
      "23\n",
      "Fizz\n",
      "Buzz\n",
      "26\n",
      "Fizz\n",
      "28\n",
      "29\n",
      "FizzBuzz\n",
      "31\n",
      "32\n",
      "Fizz\n",
      "34\n",
      "Buzz\n",
      "Fizz\n",
      "37\n",
      "38\n",
      "Fizz\n",
      "Buzz\n",
      "41\n",
      "Fizz\n",
      "43\n",
      "44\n",
      "FizzBuzz\n",
      "46\n",
      "47\n",
      "Fizz\n",
      "49\n",
      "Buzz\n"
     ]
    }
   ],
   "source": [
    "#Write a Python program that iterates the integers from 1 to 50. For multiples of three print \"Fizz\" instead of the number and for multiples of five print \"Buzz\". For numbers that are multiples of three and five, print \"FizzBuzz\"\n",
    "\n",
    "for num in range(1, 51):\n",
    "    if num % 3 == 0 and num % 5 == 0:\n",
    "        print(\"FizzBuzz\")\n",
    "    elif num % 3 == 0:\n",
    "        print(\"Fizz\")\n",
    "    elif num % 5 == 0:\n",
    "        print(\"Buzz\")\n",
    "    else:\n",
    "        print(num)\n"
   ]
  },
  {
   "cell_type": "code",
   "execution_count": 5,
   "id": "eb31ee9a",
   "metadata": {},
   "outputs": [
    {
     "name": "stdout",
     "output_type": "stream",
     "text": [
      "Enter a number: 7623457924\n",
      "The total number of digits is: 10\n"
     ]
    }
   ],
   "source": [
    "#Write a program to count the total number of digits in a number using a while loop\n",
    "\n",
    "num = int(input(\"Enter a number: \"))\n",
    "count = 0\n",
    "\n",
    "while num != 0:\n",
    "    count += 1\n",
    "    num //= 10\n",
    "\n",
    "print(\"The total number of digits is:\", count)\n"
   ]
  },
  {
   "cell_type": "code",
   "execution_count": 6,
   "id": "f64a3417",
   "metadata": {},
   "outputs": [
    {
     "name": "stdout",
     "output_type": "stream",
     "text": [
      "50\n",
      "49\n",
      "48\n",
      "47\n",
      "46\n",
      "45\n",
      "44\n",
      "43\n",
      "42\n",
      "41\n",
      "40\n",
      "39\n",
      "38\n",
      "37\n",
      "36\n",
      "35\n",
      "34\n",
      "33\n",
      "32\n",
      "31\n",
      "30\n",
      "29\n",
      "28\n",
      "27\n",
      "26\n",
      "25\n",
      "24\n",
      "23\n",
      "22\n",
      "21\n",
      "20\n",
      "19\n",
      "18\n",
      "17\n",
      "16\n",
      "15\n",
      "14\n",
      "13\n",
      "12\n",
      "11\n",
      "10\n",
      "9\n",
      "8\n",
      "7\n",
      "6\n",
      "5\n",
      "4\n",
      "3\n",
      "2\n",
      "1\n"
     ]
    }
   ],
   "source": [
    "#Write a program to print number from 50 to 1.\n",
    "\n",
    "for num in range(50, 0, -1):\n",
    "    print(num)\n"
   ]
  },
  {
   "cell_type": "code",
   "execution_count": 7,
   "id": "7889c205",
   "metadata": {},
   "outputs": [
    {
     "name": "stdout",
     "output_type": "stream",
     "text": [
      "Guess a number between 1 and 9: 4\n",
      "Too high. Guess again.\n",
      "Guess a number between 1 and 9: 9\n",
      "Too high. Guess again.\n",
      "Guess a number between 1 and 9: 6\n",
      "Too high. Guess again.\n",
      "Guess a number between 1 and 9: 5\n",
      "Too high. Guess again.\n",
      "Guess a number between 1 and 9: 2\n",
      "Too high. Guess again.\n",
      "Guess a number between 1 and 9: 1\n",
      "Congratulations! You guessed the secret number in 6 guesses.\n"
     ]
    }
   ],
   "source": [
    "#Write a Python program to guess a number between 1 and 9.\n",
    "\n",
    "import random\n",
    "secret_number = random.randint(1, 9)\n",
    "num_guesses = 0\n",
    "while True:\n",
    "    guess = int(input(\"Guess a number between 1 and 9: \"))\n",
    "    num_guesses += 1\n",
    "    if guess == secret_number:\n",
    "        print(\"Congratulations! You guessed the secret number in\", num_guesses, \"guesses.\")\n",
    "        break \n",
    "    elif guess < secret_number:\n",
    "        print(\"Too low. Guess again.\")\n",
    "    else:\n",
    "        print(\"Too high. Guess again.\")\n"
   ]
  },
  {
   "cell_type": "code",
   "execution_count": null,
   "id": "93789520",
   "metadata": {},
   "outputs": [],
   "source": []
  }
 ],
 "metadata": {
  "kernelspec": {
   "display_name": "Python 3 (ipykernel)",
   "language": "python",
   "name": "python3"
  },
  "language_info": {
   "codemirror_mode": {
    "name": "ipython",
    "version": 3
   },
   "file_extension": ".py",
   "mimetype": "text/x-python",
   "name": "python",
   "nbconvert_exporter": "python",
   "pygments_lexer": "ipython3",
   "version": "3.9.13"
  }
 },
 "nbformat": 4,
 "nbformat_minor": 5
}
