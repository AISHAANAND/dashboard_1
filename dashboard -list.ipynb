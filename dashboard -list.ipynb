{
 "cells": [
  {
   "cell_type": "code",
   "execution_count": 1,
   "id": "5615b990",
   "metadata": {},
   "outputs": [
    {
     "name": "stdout",
     "output_type": "stream",
     "text": [
      "The smallest number in the list is: 5\n"
     ]
    }
   ],
   "source": [
    "#Write a Python program to get the smallest number from a list\n",
    "list_of_numbers = [10, 20, 5, 45, 23, 50]\n",
    "smallest_number = min(list_of_numbers)\n",
    "print(\"The smallest number in the list is:\", smallest_number)"
   ]
  },
  {
   "cell_type": "code",
   "execution_count": 2,
   "id": "55c67aa6",
   "metadata": {},
   "outputs": [
    {
     "name": "stdout",
     "output_type": "stream",
     "text": [
      "The list is empty\n"
     ]
    }
   ],
   "source": [
    "#Write a Python program to check if a list is empty or not\n",
    "my_list = []\n",
    "if len(my_list) == 0:\n",
    "    print(\"The list is empty\")\n",
    "else:\n",
    "    print(\"The list is not empty\")\n"
   ]
  },
  {
   "cell_type": "code",
   "execution_count": 3,
   "id": "5b7f817a",
   "metadata": {},
   "outputs": [
    {
     "name": "stdout",
     "output_type": "stream",
     "text": [
      "True\n"
     ]
    }
   ],
   "source": [
    "#Write a Python function that takes two lists and returns True if they have at least one common member\n",
    "def common_member(list1, list2):\n",
    "    for item in list1:\n",
    "        if item in list2:\n",
    "            return True\n",
    "    return False\n",
    "list1 = [1, 2, 3, 4, 5]\n",
    "list2 = [5, 6, 7, 8, 9]\n",
    "if common_member(list1, list2):\n",
    "    print(\"True\")\n",
    "else:\n",
    "    print(\"false\")\n"
   ]
  },
  {
   "cell_type": "code",
   "execution_count": 4,
   "id": "41b35412",
   "metadata": {},
   "outputs": [
    {
     "name": "stdout",
     "output_type": "stream",
     "text": [
      "List2 after appending List1: [4, 5, 6, 1, 2, 3]\n"
     ]
    }
   ],
   "source": [
    "#Write a Python program to append a list to the second list\n",
    "list1 = [1, 2, 3]\n",
    "list2 = [4, 5, 6]\n",
    "list2.extend(list1)\n",
    "print(\"List2 after appending List1:\", list2)\n"
   ]
  },
  {
   "cell_type": "code",
   "execution_count": 5,
   "id": "33088134",
   "metadata": {},
   "outputs": [
    {
     "name": "stdout",
     "output_type": "stream",
     "text": [
      "List after removing elements: [2, 3, 4, 7, 8, 9, 10]\n"
     ]
    }
   ],
   "source": [
    "#Write a Python program to print a specified list after removing the 0th, 4th and 5th elements\n",
    "my_list = [1, 2, 3, 4, 5, 6, 7, 8, 9, 10]\n",
    "del my_list[5]\n",
    "del my_list[4]\n",
    "del my_list[0]\n",
    "print(\"List after removing elements:\", my_list)\n"
   ]
  },
  {
   "cell_type": "code",
   "execution_count": 6,
   "id": "29ac2b38",
   "metadata": {},
   "outputs": [
    {
     "name": "stdout",
     "output_type": "stream",
     "text": [
      "Enter an integer: 12\n",
      "Enter an integer: 11\n",
      "Enter an integer: 23\n",
      "Enter an integer: 22\n",
      "Enter an integer: 31\n",
      "Enter an integer: 13\n",
      "Enter an integer: 21\n",
      "Enter an integer: 14\n",
      "Enter an integer: 15\n",
      "Enter an integer: 25\n",
      "Original list: [12, 11, 23, 22, 31, 13, 21, 14, 15, 25]\n"
     ]
    }
   ],
   "source": [
    "#Take 10 integer inputs from user and store them in a list. Now, copy all the elements in another list but in reverse order.\n",
    "num_list = []\n",
    "for i in range(10):\n",
    "    num = int(input(\"Enter an integer: \"))\n",
    "    num_list.append(num)\n",
    "print(\"Original list:\", num_list)\n"
   ]
  }
 ],
 "metadata": {
  "kernelspec": {
   "display_name": "Python 3 (ipykernel)",
   "language": "python",
   "name": "python3"
  },
  "language_info": {
   "codemirror_mode": {
    "name": "ipython",
    "version": 3
   },
   "file_extension": ".py",
   "mimetype": "text/x-python",
   "name": "python",
   "nbconvert_exporter": "python",
   "pygments_lexer": "ipython3",
   "version": "3.9.13"
  }
 },
 "nbformat": 4,
 "nbformat_minor": 5
}
